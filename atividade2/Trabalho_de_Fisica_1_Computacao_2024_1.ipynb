{
 "cells": [
  {
   "cell_type": "markdown",
   "metadata": {
    "id": "BibHyCV83gET"
   },
   "source": [
    "## UNIVERSIDADE FEDERAL DO AMAPÁ  \n",
    "## DEPARTAMENTO DE CIÊNCIAS EXATAS E TECNOLÓGICAS  \n",
    "## CURSO DE CIÊNCIA DA COMPUTAÇÃO  \n",
    "## FÍSICA 1  \n",
    "**Prof. Dr. Marcelo Siqueira**\n",
    "\n",
    "**Aluno:** ...........................\n",
    "---\n",
    "\n",
    "**Atividade avaliativa** componente da 2ª nota do semestre, valendo **5,0 pontos**. Os outros **5,0** vêm da **prova escrita**.\n"
   ]
  },
  {
   "cell_type": "markdown",
   "metadata": {
    "id": "D7QdMjky4o9D"
   },
   "source": [
    "**Descrição da atividade:**\n",
    "\n",
    "Nesta avividade vocês irão resolver problemas de física usando programação. Para isso, segue um exemplo da estrutra da solução das questões. Esta estrutura irá definir 'check points', os quais irão facilitar a correção, verificar se vocês entenderam a questão e analsiar como anda seu reaciocínio lógico."
   ]
  },
  {
   "cell_type": "markdown",
   "metadata": {
    "id": "i8u9mqcC5F-C"
   },
   "source": [
    "**Exemplo:** Uma bala de fuzil de massa igual a 20 g atinge uma árvore com a velocidade de 500 m/s, penetrando nela a uma profundidade de 10 cm. Calcule a força média (em N e em kgf) exercida sobre a bala durante a penetração."
   ]
  },
  {
   "cell_type": "code",
   "execution_count": null,
   "metadata": {
    "colab": {
     "base_uri": "https://localhost:8080/"
    },
    "id": "-cfnG2oA4oZz",
    "outputId": "6a83e7e2-fd22-4df2-e562-c5ea8a7e2c1a"
   },
   "outputs": [],
   "source": [
    "# Solução:\n",
    "\n",
    "# 1. Dados da questão\n",
    "m = 20e-3 # massa em kg\n",
    "v0 = 500 # velocidade em m/s\n",
    "d = 10e-2 # profundidade em m\n",
    "\n",
    "# 2. Definição das equações e funções usadas\n",
    "# 2.1. aceleração: retirada da equação de Torricelli\n",
    "def aceleracao(v0, d):\n",
    "  a = -v0**2/(2*d)\n",
    "  return a\n",
    "\n",
    "# 2.2. força média\n",
    "def forca_media(m, a):\n",
    "  F = m*a\n",
    "  return F\n",
    "\n",
    "# 3. Cálculos\n",
    "\n",
    "aceleracao_centripeta = aceleracao(v0, d)\n",
    "Forca = forca_media(m, aceleracao_centripeta)\n",
    "\n",
    "# 4. Resultados\n",
    "print(f\"A aceleração é de {aceleracao_centripeta} m/s².\")\n",
    "print(f\"A força média é de {Forca} N ou {Forca*0.102} kgf.\")"
   ]
  },
  {
   "cell_type": "markdown",
   "metadata": {
    "id": "YkyFu702-PnX"
   },
   "source": [
    "**Questão 1:** Uma pulga de massa igual a 2 mg é capaz de saltar verticalmente a uma altura de 50 cm. Durante o intervalo de tempo (muito curto) em que estica as patas para impulsionar o salto, ela se eleva de 1 mm antes que suas patas \"decolem\" do solo. Calcule a força média (em kgf) exercida pela pulga sobre o solo ao pular e compare-a com o peso da pulga.\n"
   ]
  },
  {
   "cell_type": "code",
   "execution_count": null,
   "metadata": {
    "id": "7H1MOwgE3bY4"
   },
   "outputs": [
    {
     "name": "stdout",
     "output_type": "stream",
     "text": [
      "Velocidade = 3.162 m/s\n",
      "distância = 0.001 m\n",
      "Aceleração = 5000.000 m/s²\n",
      "Força média é igual a: 0.001 kgf\n",
      "A pulga exerce 50.000 vezes o seu peso\n"
     ]
    }
   ],
   "source": [
    "import math\n",
    "\n",
    "m = 2e-6  # massa em kg\n",
    "h = 50e-2 # altura em metros\n",
    "g = 10\n",
    "\n",
    "\n",
    "\n",
    "Ep = g * h * m # Energia potencial na altura máxima\n",
    "# Ep = energia cinética no momento do impulso\n",
    "Ec = Ep; \n",
    "# U\n",
    "# (v**2) * m/2 = Ec  --> v = math.sqrt(Ec*2/m)\n",
    "v = math.sqrt(Ec*2/m)\n",
    "print(f\"Velocidade = {v:.3f} m/s\")\n",
    "#Usamos torriceli para achar a aceleração\n",
    "d = 1e-3 # distância em metros\n",
    "print(f\"distância = {d:.3f} m\")\n",
    "# Vf**2 = 0 + 2*d*a   Onde V0 = 0\n",
    "# v**2 = 0 + 2*d*a \n",
    "# v**2 + 2*d*a  --> a = v**2/2d\n",
    "aceleracao_centripeta = v**2/(2*d)\n",
    "print(f\"Aceleração = {aceleracao_centripeta:.3f} m/s²\")\n",
    "f_newtons = m * aceleracao_centripeta #Força em N\n",
    "f = f_newtons/g # Força em kg\n",
    "print(f\"Força média é igual a: {f:.3f} kgf\")\n",
    "\n",
    "print(f\"A pulga exerce {f / (m * g):.3f} vezes o seu peso\")\n",
    "\n"
   ]
  },
  {
   "cell_type": "markdown",
   "metadata": {
    "id": "N-rauQe1-g0P"
   },
   "source": [
    "**Questão 2:** Uma pulga de massa igual a 2 mg é capaz de saltar verticalmente a uma altura de 50 cm. Durante o intervalo de tempo (muito curto) em que estica as patas para impulsionar o salto, ela se eleva de 1 mm antes que suas patas \"decolem\" do solo. Calcule a força média (em kgf) exercida pela pulga sobre o solo ao pular e compare-a com o peso da pulga.\n"
   ]
  },
  {
   "cell_type": "code",
   "execution_count": null,
   "metadata": {
    "id": "jRwHpEmE4fnK"
   },
   "outputs": [],
   "source": [
    "\n",
    "\n",
    "m = 2e-6  # massa em kg\n",
    "h = 50e-2 # altura em metros\n"
   ]
  },
  {
   "cell_type": "markdown",
   "metadata": {
    "id": "8J9LGX0l_BnG"
   },
   "source": [
    "**Questão 3:** Um automóvel estacionado no alto de uma ladeira molhada pela chuva, de 100 m de comprimento e 25 m de altura, perde os freios e desliza pela ladeira (despreze o atrito). Com que velocidade, em km/h, ele atinge o pé da ladeira?"
   ]
  },
  {
   "cell_type": "code",
   "execution_count": 32,
   "metadata": {
    "id": "gR19kSqD_znv"
   },
   "outputs": [
    {
     "name": "stdout",
     "output_type": "stream",
     "text": [
      "Velocidade igual a 80.49844718999243 km/h\n"
     ]
    }
   ],
   "source": [
    "import math\n",
    "\n",
    "d = 100 # distância em Metros\n",
    "h = 25 # altura em Metros\n",
    "g = 10\n",
    "m = 1\n",
    "Ep = h * m * g\n",
    "Ec = Ep\n",
    "# Ep = h * m * g\n",
    "# Ec = (v**2) * m/ 2\n",
    "\n",
    "v = math.sqrt(2 * Ep)  #Velocidade em metros por segundo\n",
    "v_km = v*3.6\n",
    "print(f\"Velocidade igual a {v_km} km/h\")"
   ]
  },
  {
   "cell_type": "markdown",
   "metadata": {
    "id": "8U-F9Rb4_1Xx"
   },
   "source": [
    "**Questão 4:** Uma criança desliza, para mergulhar dentro de uma piscina, do alto de uma escorregadeira de 3m de comprimento e 30° de inclinação com respeito à horizontal. A extremidade inferior da escorregadeira está 3m acima da água. A que distância horizontal dessa extremidade a criança mergulha na água?"
   ]
  },
  {
   "cell_type": "code",
   "execution_count": 5,
   "metadata": {
    "id": "nqyDBBpABUoh"
   },
   "outputs": [
    {
     "name": "stdout",
     "output_type": "stream",
     "text": [
      "Velocidade ao sair do escorregador 5.48 m/s²\n",
      "tempo total do pecurso apos sair da extremidade 0.77 segundos\n",
      "A distância horizontal será de 4.24 metros\n"
     ]
    }
   ],
   "source": [
    "import math\n",
    "c = 3 #comprimento em metros \n",
    "g = 10\n",
    "distancia_entre_agua_escorregador = 3 # Distância  do escorregador com a água em metros\n",
    "theta = 30\n",
    "# (c * sen30 ) altura escorregador\n",
    "#  sen30 = 1/2\n",
    "\n",
    "h = c * math.sin(math.radians(theta)) ## Altura do escorregador\n",
    "\n",
    "# Vamos ignorar a massa visto que ela não foi dada no problema e será cancelada durante as operações\n",
    "Ep = h * g\n",
    "Ec = Ep\n",
    "# ec = v**2/2\n",
    "v = math.sqrt(Ec * 2)\n",
    "\n",
    "print(f\"Velocidade ao sair do escorregador {v :.2f} m/s²\")\n",
    "# Vamos calcular o tempo até a criança cair na água \n",
    "# Usando essa formula:\n",
    "# distancia_entre_agua_escorregador = (t**2)*g/2\n",
    "\n",
    "t =  math.sqrt((distancia_entre_agua_escorregador * 2) / g)\n",
    "print(f\"tempo total do pecurso apos sair da extremidade {t :.2f} segundos\")\n",
    "distância_pecorrida_na_horizontal = t * v\n",
    "print(f\"A distância horizontal será de {distância_pecorrida_na_horizontal:.2f} metros\")\n",
    "\n",
    " "
   ]
  },
  {
   "cell_type": "markdown",
   "metadata": {
    "id": "EwK307MLBVEZ"
   },
   "source": [
    "**Questão 5:** No átomo de hidrogênio, a distância média entre o elétron e o próton é de aproximadamente 0,5 Å. Calcule a razão entre as atrações coulombiana e gravitacional das duas partículas no átomo. A que distância entre o elétron e o próton sua atração coulombiana se tornaria igual à atração gravitacional existente entre eles no átomo? Compare o resultado com a distância Terra-Lua."
   ]
  },
  {
   "cell_type": "code",
   "execution_count": null,
   "metadata": {
    "id": "oQ5c60XkBw55"
   },
   "outputs": [
    {
     "name": "stdout",
     "output_type": "stream",
     "text": [
      "força gravitacional = 4.0682987447199994e-47\n",
      "força coulombiana = 9.215999999999999e-08\n",
      "razão entre força coulombiana e força gravitacional = 2.265320365659206e+39\n",
      "Para que a força coulombiana seja igual a força gravitacional, a distância precisa ser = 2.38e+09 metros\n",
      "Essa força é 4.76e+19 vezes maior que distância normal entre o eletrón e o proton\n",
      "Comparando o resultado com a distância Terra-Lua. Temos que a distancia é 6.20\n"
     ]
    }
   ],
   "source": [
    "distancia_media = 5e-11\n",
    "r = distancia_media\n",
    "G =  6.674e-11\n",
    "m1 = 9.109e-31 # Massa de um eletron em kg\n",
    "m2 = 1.673e-27 # Massa de um Proton em kg\n",
    "# força gravitacional\n",
    "F_gravitacional = (G * (m1 * m2) )/ r**2\n",
    "\n",
    "q1 = 1.6e-19\n",
    "q2 = 1.6e-19\n",
    "k = 9e9\n",
    "# atração coulombiana \n",
    "F_coulombiana = (k * q1 * q2) / r**2\n",
    "\n",
    "print(f\"força gravitacional = {F_gravitacional}\")\n",
    "print(f\"força coulombiana = {F_coulombiana}\")\n",
    "\n",
    "print(f\"razão entre força coulombiana e força gravitacional = {F_coulombiana / F_gravitacional}\")\n",
    "\n",
    "# Distância hipotetica onde F_gravitacional = F_coulombiana]\n",
    "r2 = math.sqrt((k * q1 * q2) / F_gravitacional )\n",
    "\n",
    "print(f\"Para que a força coulombiana seja igual a força gravitacional, a distância entre o eletrón e o proton precisa ser = {r2:.2e} metros\")\n",
    "print(f\"Essa força é {r2/r:.2e} vezes maior que distância normal entre o eletrón e o proton\")\n",
    "\n",
    "# Distância terra-lua\n",
    "\n",
    "distancia_terra_lua = 3.84e8\n",
    "print(f\"Comparando o resultado com a distância Terra-Lua. Temos que a distancia é {r2/distancia_terra_lua:.2f} vezes maior\")"
   ]
  },
  {
   "cell_type": "markdown",
   "metadata": {
    "id": "M3w_NwZTB0GT"
   },
   "source": [
    "**Questão 6:** O coeficiente de atrito estático entre as roupas de uma pessoa e a parede cilíndrica de uma centrífuga de parque de diversões de 2 m de raio é 0,5. Qual é a velocidade angular mínima (em rotações por minuto) da centrífuga para que a pessoa permaneça colada à parede, suspensa acima do chão?"
   ]
  },
  {
   "cell_type": "code",
   "execution_count": 9,
   "metadata": {
    "id": "dOuBowWBDAP3"
   },
   "outputs": [
    {
     "name": "stdout",
     "output_type": "stream",
     "text": [
      "A velocidade angular mínima será = 30.197527262692226 rpm\n"
     ]
    }
   ],
   "source": [
    "import math\n",
    "r = 2 # raio da centrífuga em metros\n",
    "coeficiente_atrito = 5e-1 # coeficiente de atrito\n",
    "g = 10\n",
    "\n",
    "# aceleracao_centripeta = (v**2)/r \n",
    "# # formula para forçar centrípeta (v**2) * r \n",
    "# f_centrípeta = (v**2)/r  * m\n",
    "# f_atrito = coeficiente_atrito * f_centrípeta \n",
    "# peso = g * m\n",
    "\n",
    "# O cenário irá acontecer quanto força de atrito = peso\n",
    "# f_atrito = peso\n",
    "\n",
    "# (v**2) * coeficiente_atrito/r  = g * m \n",
    "# v**2 = g * r / coeficiente_atrito\n",
    "v = math.sqrt(g * r / coeficiente_atrito) \n",
    "\n",
    "# Velocidade angular w -->  w =v/r\n",
    "w =  v/r\n",
    "\n",
    "\n",
    "# Converter para rotações por minuto:\n",
    "\n",
    "rpm = 60 * w / (math.pi * 2)\n",
    " \n",
    "print(f\"A velocidade angular mínima será = {rpm} rpm\")\n"
   ]
  },
  {
   "cell_type": "markdown",
   "metadata": {},
   "source": []
  },
  {
   "cell_type": "markdown",
   "metadata": {
    "id": "d__DGghADAyJ"
   },
   "source": [
    "**Questão 7:** Um garoto quer atirar um pedregulho de massa igual a 50 g num passarinho pousado num galho 5 m à sua frente e 2 m acima do seu braço. Para isso, utiliza um estilingue em que cada elástico se estica de 1 cm para uma força aplicada de 1 N. O garoto aponta numa direção a 30° da horizontal. De que distância deve puxar os elásticos para acertar no passarinho?"
   ]
  },
  {
   "cell_type": "code",
   "execution_count": null,
   "metadata": {
    "id": "gyO2BAOZDwve"
   },
   "outputs": [
    {
     "name": "stdout",
     "output_type": "stream",
     "text": [
      "A deformação total será 0.216616019721534 metros\n"
     ]
    }
   ],
   "source": [
    "import math\n",
    "m = 50e-3 # massa em kg\n",
    "distancia_X = 5\n",
    "distancia_y = 2 \n",
    "g = 10\n",
    "\n",
    "\n",
    "# Primeiros vamos achar qual a velocidade inicial. Para isso temos que:\n",
    "\n",
    "\n",
    "\n",
    "v = math.sqrt(-500/(3* (2 - (5*math.sqrt(3)/3) )))\n",
    "\n",
    "\n",
    "deformacao_elastico = 1e-2 # em metros\n",
    "forca_elastica = 1 # em newtons \n",
    "coeficiente_elastico = forca_elastica/deformacao_elastico\n",
    "angulo = 30 # em graus\n",
    "\n",
    "E_elastica = (deformacao_elastico **2) * coeficiente_elastico/ 2\n",
    "E_cinetica = (v**2) * m / 2\n",
    "\n",
    "\n",
    "# Energia cínetica = energia elastica\n",
    "# deformacao_elastico **2) * coeficiente_elastico =  (v**2) * m / 2\n",
    "# deformacao_elastico **2=  (v**2) * m / 2 * coeficiente_elastico \n",
    "\n",
    "deformacao_elastica_necessaria = math.sqrt( (v**2) * m /(coeficiente_elastico *2))\n",
    "\n",
    "print(f\"A deformação total será {deformacao_elastica_necessaria} metros\")\n"
   ]
  },
  {
   "cell_type": "markdown",
   "metadata": {
    "id": "GQ7U3TqlDxKW"
   },
   "source": [
    "**Questão 8:** Uma balança de mola é calibrada de tal forma que o prato desce de 1 cm quando uma massa de 0,5 kg está em equilíbrio sobre ele. Uma bola de 0,5 kg de massa fresca de pão, guardada numa prateleira 1m acima do prato da balança, escorrega da prateleira e cai sobre ele. Não levando em conta as massas do prato e da mola, de quanto desce o prato da balança?"
   ]
  },
  {
   "cell_type": "code",
   "execution_count": null,
   "metadata": {
    "id": "IF_xAZuTEwja"
   },
   "outputs": [
    {
     "name": "stdout",
     "output_type": "stream",
     "text": [
      "coeficiente_elastico = 500.0 N/m\n",
      "O prato irá descer um total de 0.1518 metros.\n"
     ]
    }
   ],
   "source": [
    "import math\n",
    "m = 0.5 \n",
    "deformacao_elastica = 1e-2 # em metros\n",
    "g = 10\n",
    "# Vamos calcular o coeficiente elastico sabendo que força elastica = força peso. \n",
    "p = m * g\n",
    "# força elastica = coeficiente_elastico * deformacao_elastica\n",
    "# força elastica = peso --> coeficiente_elastico = p /deformacao_elastica\n",
    "coeficiente_elastico = p/deformacao_elastica \n",
    "\n",
    "print(f\"coeficiente_elastico = {coeficiente_elastico} N/m\")\n",
    "\n",
    "# Agora, vamos calcular a deformação no cenario da bola caindo\n",
    "massa_bola = 0.5 \n",
    "h = 1\n",
    "# energia_potencial = (h + x) * massa_bola * g\n",
    "# energia_potencial = energia_elastica\n",
    "# energia_elastica =  (coeficiente_elastico * deformacao_x ** 2) /2\n",
    "\n",
    "# Resolve a equação quadrática: (h + x) * m * g = (k * x^2) / 2\n",
    "#  (h + x) * m * g = (k * x^2) / 2\n",
    "#  (h + x) * m * g = (k * x^2) / 2\n",
    "#  (h + x) * m * g = (k * x^2) / 2\n",
    "a = coeficiente_elastico / 2\n",
    "b = -m * g\n",
    "c = -m * g * h\n",
    "\n",
    "# Calcula a raiz positiva de x, que é a deformação adicional que procuramos\n",
    "delta = b**2 - 4 * a * c\n",
    "if delta >= 0:\n",
    "    x = (-b + math.sqrt(delta)) / (2 * a)\n",
    "    print(f\"O prato irá descer um total de {x:.4f} metros.\")\n",
    "else:\n",
    "    print(\"Não há solução real para a deformação adicional.\")\n"
   ]
  }
 ],
 "metadata": {
  "colab": {
   "provenance": []
  },
  "kernelspec": {
   "display_name": "myenv",
   "language": "python",
   "name": "python3"
  },
  "language_info": {
   "codemirror_mode": {
    "name": "ipython",
    "version": 3
   },
   "file_extension": ".py",
   "mimetype": "text/x-python",
   "name": "python",
   "nbconvert_exporter": "python",
   "pygments_lexer": "ipython3",
   "version": "3.12.0"
  }
 },
 "nbformat": 4,
 "nbformat_minor": 0
}
