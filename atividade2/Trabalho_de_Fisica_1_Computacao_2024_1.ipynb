{
  "nbformat": 4,
  "nbformat_minor": 0,
  "metadata": {
    "colab": {
      "provenance": []
    },
    "kernelspec": {
      "name": "python3",
      "display_name": "Python 3"
    },
    "language_info": {
      "name": "python"
    }
  },
  "cells": [
    {
      "cell_type": "markdown",
      "source": [
        "## UNIVERSIDADE FEDERAL DO AMAPÁ  \n",
        "## DEPARTAMENTO DE CIÊNCIAS EXATAS E TECNOLÓGICAS  \n",
        "## CURSO DE CIÊNCIA DA COMPUTAÇÃO  \n",
        "## FÍSICA 1  \n",
        "**Prof. Dr. Marcelo Siqueira**\n",
        "\n",
        "**Aluno:** ...........................\n",
        "---\n",
        "\n",
        "**Atividade avaliativa** componente da 2ª nota do semestre, valendo **5,0 pontos**. Os outros **5,0** vêm da **prova escrita**.\n"
      ],
      "metadata": {
        "id": "BibHyCV83gET"
      }
    },
    {
      "cell_type": "markdown",
      "source": [
        "**Descrição da atividade:**\n",
        "\n",
        "Nesta avividade vocês irão resolver problemas de física usando programação. Para isso, segue um exemplo da estrutra da solução das questões. Esta estrutura irá definir 'check points', os quais irão facilitar a correção, verificar se vocês entenderam a questão e analsiar como anda seu reaciocínio lógico."
      ],
      "metadata": {
        "id": "D7QdMjky4o9D"
      }
    },
    {
      "cell_type": "markdown",
      "source": [
        "**Exemplo:** Uma bala de fuzil de massa igual a 20 g atinge uma árvore com a velocidade de 500 m/s, penetrando nela a uma profundidade de 10 cm. Calcule a força média (em N e em kgf) exercida sobre a bala durante a penetração."
      ],
      "metadata": {
        "id": "i8u9mqcC5F-C"
      }
    },
    {
      "cell_type": "code",
      "source": [
        "# Solução:\n",
        "\n",
        "# 1. Dados da questão\n",
        "m = 20e-3 # massa em kg\n",
        "v0 = 500 # velocidade em m/s\n",
        "d = 10e-2 # profundidade em m\n",
        "\n",
        "# 2. Definição das equações e funções usadas\n",
        "# 2.1. aceleração: retirada da equação de Torricelli\n",
        "def aceleracao(v0, d):\n",
        "  a = -v0**2/(2*d)\n",
        "  return a\n",
        "\n",
        "# 2.2. força média\n",
        "def forca_media(m, a):\n",
        "  F = m*a\n",
        "  return F\n",
        "\n",
        "# 3. Cálculos\n",
        "\n",
        "a = aceleracao(v0, d)\n",
        "Forca = forca_media(m, a)\n",
        "\n",
        "# 4. Resultados\n",
        "print(f\"A aceleração é de {a} m/s².\")\n",
        "print(f\"A força média é de {Forca} N ou {Forca*0.102} kgf.\")"
      ],
      "metadata": {
        "colab": {
          "base_uri": "https://localhost:8080/"
        },
        "id": "-cfnG2oA4oZz",
        "outputId": "6a83e7e2-fd22-4df2-e562-c5ea8a7e2c1a"
      },
      "execution_count": 7,
      "outputs": [
        {
          "output_type": "stream",
          "name": "stdout",
          "text": [
            "A aceleração é de -1250000.0 m/s².\n",
            "A força média é de -25000.0 N ou -2550.0 kgf.\n"
          ]
        }
      ]
    },
    {
      "cell_type": "markdown",
      "source": [
        "**Questão 1:** Uma pulga de massa igual a 2 mg é capaz de saltar verticalmente a uma altura de 50 cm. Durante o intervalo de tempo (muito curto) em que estica as patas para impulsionar o salto, ela se eleva de 1 mm antes que suas patas \"decolem\" do solo. Calcule a força média (em kgf) exercida pela pulga sobre o solo ao pular e compare-a com o peso da pulga.\n"
      ],
      "metadata": {
        "id": "YkyFu702-PnX"
      }
    },
    {
      "cell_type": "code",
      "execution_count": null,
      "metadata": {
        "id": "7H1MOwgE3bY4"
      },
      "outputs": [],
      "source": []
    },
    {
      "cell_type": "markdown",
      "source": [
        "**Questão 2:** Uma pulga de massa igual a 2 mg é capaz de saltar verticalmente a uma altura de 50 cm. Durante o intervalo de tempo (muito curto) em que estica as patas para impulsionar o salto, ela se eleva de 1 mm antes que suas patas \"decolem\" do solo. Calcule a força média (em kgf) exercida pela pulga sobre o solo ao pular e compare-a com o peso da pulga.\n"
      ],
      "metadata": {
        "id": "N-rauQe1-g0P"
      }
    },
    {
      "cell_type": "code",
      "source": [],
      "metadata": {
        "id": "jRwHpEmE4fnK"
      },
      "execution_count": null,
      "outputs": []
    },
    {
      "cell_type": "markdown",
      "source": [
        "**Questão 3:** Um automóvel estacionado no alto de uma ladeira molhada pela chuva, de 100 m de comprimento e 25 m de altura, perde os freios e desliza pela ladeira (despreze o atrito). Com que velocidade, em km/h, ele atinge o pé da ladeira?"
      ],
      "metadata": {
        "id": "8J9LGX0l_BnG"
      }
    },
    {
      "cell_type": "code",
      "source": [],
      "metadata": {
        "id": "gR19kSqD_znv"
      },
      "execution_count": null,
      "outputs": []
    },
    {
      "cell_type": "markdown",
      "source": [
        "**Questão 4:** Uma criança desliza, para mergulhar dentro de uma piscina, do alto de uma escorregadeira de 3m de comprimento e 30° de inclinação com respeito à horizontal. A extremidade inferior da escorregadeira está 3m acima da água. A que distância horizontal dessa extremidade a criança mergulha na água?"
      ],
      "metadata": {
        "id": "8U-F9Rb4_1Xx"
      }
    },
    {
      "cell_type": "code",
      "source": [],
      "metadata": {
        "id": "nqyDBBpABUoh"
      },
      "execution_count": null,
      "outputs": []
    },
    {
      "cell_type": "markdown",
      "source": [
        "**Questão 5:** No átomo de hidrogênio, a distância média entre o elétron e o próton é de aproximadamente 0,5 Å. Calcule a razão entre as atrações coulombiana e gravitacional das duas partículas no átomo. A que distância entre o elétron e o próton sua atração coulombiana se tornaria igual à atração gravitacional existente entre eles no átomo? Compare o resultado com a distância Terra-Lua."
      ],
      "metadata": {
        "id": "EwK307MLBVEZ"
      }
    },
    {
      "cell_type": "code",
      "source": [],
      "metadata": {
        "id": "oQ5c60XkBw55"
      },
      "execution_count": null,
      "outputs": []
    },
    {
      "cell_type": "markdown",
      "source": [
        "**Questão 6:** O coeficiente de atrito estático entre as roupas de uma pessoa e a parede cilíndrica de uma centrífuga de parque de diversões de 2 m de raio é 0,5. Qual é a velocidade angular mínima (em rotações por minuto) da centrífuga para que a pessoa permaneça colada à parede, suspensa acima do chão?"
      ],
      "metadata": {
        "id": "M3w_NwZTB0GT"
      }
    },
    {
      "cell_type": "code",
      "source": [],
      "metadata": {
        "id": "dOuBowWBDAP3"
      },
      "execution_count": null,
      "outputs": []
    },
    {
      "cell_type": "markdown",
      "source": [
        "**Questão 7:** Um garoto quer atirar um pedregulho de massa igual a 50 g num passarinho pousado num galho 5 m à sua frente e 2 m acima do seu braço. Para isso, utiliza um estilingue em que cada elástico se estica de 1 cm para uma força aplicada de 1 N. O garoto aponta numa direção a 30° da horizontal. De que distância deve puxar os elásticos para acertar no passarinho?"
      ],
      "metadata": {
        "id": "d__DGghADAyJ"
      }
    },
    {
      "cell_type": "code",
      "source": [],
      "metadata": {
        "id": "gyO2BAOZDwve"
      },
      "execution_count": null,
      "outputs": []
    },
    {
      "cell_type": "markdown",
      "source": [
        "**Questão 8:** Uma balança de mola é calibrada de tal forma que o prato desce de 1 cm quando uma massa de 0,5 kg está em equilíbrio sobre ele. Uma bola de 0,5 kg de massa fresca de pão, guardada numa prateleira 1m acima do prato da balança, escorrega da prateleira e cai sobre ele. Não levando em conta as massas do prato e da mola, de quanto desce o prato da balança?"
      ],
      "metadata": {
        "id": "GQ7U3TqlDxKW"
      }
    },
    {
      "cell_type": "code",
      "source": [],
      "metadata": {
        "id": "IF_xAZuTEwja"
      },
      "execution_count": null,
      "outputs": []
    }
  ]
}